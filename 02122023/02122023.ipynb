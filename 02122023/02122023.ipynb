{
 "cells": [
  {
   "attachments": {},
   "cell_type": "markdown",
   "metadata": {},
   "source": [
    "# EPL Pass Rolling Charts\n",
    "\n",
    "For this week we'll be looking at an experimental viz for pass success averages in the Premier League."
   ]
  },
  {
   "cell_type": "code",
   "execution_count": 6,
   "metadata": {},
   "outputs": [],
   "source": [
    "import pandas as pd\n",
    "import matplotlib.pyplot as plt\n",
    "import matplotlib.ticker as ticker\n",
    "import matplotlib.patheffects as path_effects\n",
    "import matplotlib.font_manager as fm\n",
    "from matplotlib import cm\n",
    "from highlight_text import fig_text, ax_text\n",
    "\n",
    "import seaborn as sns\n",
    "\n",
    "from PIL import Image\n",
    "import urllib\n",
    "import os"
   ]
  },
  {
   "cell_type": "code",
   "execution_count": 7,
   "metadata": {},
   "outputs": [],
   "source": [
    "font_path = \"../assets/fonts\"\n",
    "for x in os.listdir(font_path):\n",
    "    for y in os.listdir(f\"{font_path}/{x}\"):\n",
    "        if y.split(\".\")[-1] == \"ttf\":\n",
    "            fm.fontManager.addfont(f\"{font_path}/{x}/{y}\")\n",
    "            try:\n",
    "                fm.FontProperties(weight=y.split(\"-\")[-1].split(\".\")[0].lower(), fname=y.split(\"-\")[0])\n",
    "            except Exception:\n",
    "                continue\n",
    "\n",
    "plt.style.use(\"../assets/stylesheets/soc_base.mplstyle\")\n",
    "plt.rcParams['font.family'] = 'Karla'"
   ]
  },
  {
   "attachments": {},
   "cell_type": "markdown",
   "metadata": {},
   "source": [
    "## Read the data"
   ]
  },
  {
   "cell_type": "code",
   "execution_count": 8,
   "metadata": {},
   "outputs": [],
   "source": [
    "df = pd.read_csv('data/02122023_passes.csv', index_col=0)\n",
    "df['date'] = pd.to_datetime(df['date'])"
   ]
  },
  {
   "attachments": {},
   "cell_type": "markdown",
   "metadata": {},
   "source": [
    "First, we compute the passing accuracy for teams. Note that we also filter the data to show only games from the 2022/2023 season."
   ]
  },
  {
   "cell_type": "code",
   "execution_count": 9,
   "metadata": {},
   "outputs": [],
   "source": [
    "df_new = df[df['date'] >= '2022-08-01'].reset_index(drop=True)\n",
    "df_new = df_new[df_new['position'] != 'GK'].reset_index(drop=True)\n",
    "df_teams = (\n",
    "    df_new\n",
    "    .groupby(['team_id', 'team_name', 'match_id', 'date'])\n",
    "    [['total_passes', 'accurate_passes']].sum()\n",
    "    .assign(pass_accuracy = lambda x: x.accurate_passes/x.total_passes)\n",
    "    .reset_index()\n",
    "    .sort_values(by=['team_name', 'date'])\n",
    "    .reset_index(drop=True)\n",
    ")\n",
    "# -- Compute rolling average\n",
    "df_teams['rolling_pass'] = (\n",
    "    df_teams\n",
    "    .groupby(['team_name'])\n",
    "    .rolling(window=3, min_periods=0)['pass_accuracy']\n",
    "    .mean()\n",
    "    .reset_index(drop=True)\n",
    ")"
   ]
  },
  {
   "cell_type": "code",
   "execution_count": 10,
   "metadata": {},
   "outputs": [],
   "source": [
    "df_new = df_new.assign(pass_accuracy = lambda x: x.accurate_passes/x.total_passes)\n",
    "df_all = df_new[df_new['minutes_played'] >= 30].reset_index(drop=True)"
   ]
  },
  {
   "cell_type": "code",
   "execution_count": 11,
   "metadata": {},
   "outputs": [],
   "source": [
    "df_spurs = df_teams[df_teams['team_name'] == 'Brighton & Hove Albion'].reset_index(drop=True)\n",
    "df_scatter = pd.DataFrame()\n",
    "for index, match in enumerate(df_spurs['match_id']):\n",
    "    df_aux = df_new[df_new['team_name'] == 'Brighton & Hove Albion']\n",
    "    df_aux = df_aux[df_aux['minutes_played'] >= 30]\n",
    "    df_aux = df_aux[df_aux['match_id'] == match]\n",
    "    df_aux = df_aux.assign(x_pos = index)\n",
    "    df_scatter = pd.concat([df_scatter, df_aux])\n",
    "    df_scatter.reset_index(drop=True, inplace=True)"
   ]
  },
  {
   "attachments": {},
   "cell_type": "markdown",
   "metadata": {},
   "source": [
    "We give it a go with Brighton."
   ]
  },
  {
   "cell_type": "code",
   "execution_count": 12,
   "metadata": {},
   "outputs": [],
   "source": [
    "fig = plt.figure(figsize=(7,4), dpi=200)\n",
    "axs = fig.subplot_mosaic(\n",
    "    'DS', gridspec_kw={\n",
    "        \"width_ratios\":[.15,.5]\n",
    "    }, sharey=True\n",
    ")\n",
    "\n",
    "\n",
    "axs['D'].set_ylim(.4,1.05)\n",
    "\n",
    "main_color = '#0057B8'\n",
    "second_color = 'grey'\n",
    "\n",
    "axs['S'].grid(ls='dashed', lw=.5, color='lightgrey')\n",
    "axs['S'].plot(df_spurs.index, df_spurs.rolling_pass, color=main_color,\n",
    "        zorder=5, marker='o', markevery=[-1],\n",
    "        markersize=8, mfc=axs['S'].get_facecolor(), lw=2.5, mew=2, label='5-game moving average')\n",
    "\n",
    "axs['S'].legend(markerscale=0.75, loc='upper center', bbox_to_anchor = [0.5, 1.06], fontsize='x-small')\n",
    "\n",
    "sns.scatterplot(data=df_scatter, x='x_pos', y='pass_accuracy', size='total_passes', alpha=0.25, color=second_color, zorder=3,\n",
    "                legend=False, sizes=(5,100), ax=axs['S'], ec=second_color)\n",
    "\n",
    "axs['S'].set_xlabel('Match index')\n",
    "\n",
    "axs['D'].grid(ls='dashed', lw=.5, color='lightgrey')\n",
    "sns.histplot(data=df_scatter, y='pass_accuracy', ax=axs[\"D\"], \n",
    "            element='step', zorder=2, color=second_color, alpha=0.5, stat='density')\n",
    "axs['D'].invert_xaxis()\n",
    "axs['D'].spines['left'].set_visible(False)\n",
    "axs['D'].spines['right'].set_visible(True)\n",
    "axs['D'].spines['bottom'].set_visible(False)\n",
    "axs['D'].yaxis.set_major_formatter(ticker.StrMethodFormatter('{x:.0%}'))\n",
    "axs['D'].set_xticks([])\n",
    "axs['D'].yaxis.tick_right()\n",
    "# -- Turn of labels\n",
    "axs['D'].set_ylabel('')\n",
    "axs['D'].set_xlabel('')\n",
    "\n",
    "fig_text(\n",
    "    x=0.17, y=1.11, s='<Brighton & Hove Albion\\'s> passing accuracy in the EPL', family='DM Sans',\n",
    "    ha='left', va='center', weight='normal', size='large',\n",
    "    highlight_textprops = [{'weight':'bold', 'size':'x-large'}] \n",
    ")\n",
    "fig_text(\n",
    "    x=0.12, y=1.01, s='<5-game moving average> pass accuracy in the 2022/2023 Premier League.\\n<Bubbles> denote passing accuracy of <individual players> (exc. GK) with at least 30 minutes played, for each match.\\n<Bubble size> denotes the number of passes attempted. Viz by @sonofacorner.', \n",
    "    family='Karla',\n",
    "    ha='left', va='center', size='x-small',\n",
    "    highlight_textprops = [{'weight':'bold', 'color':main_color}, {'weight':'bold', 'color':second_color}, {'weight':'bold', 'color':second_color}, {'weight':'bold', 'color':second_color}] \n",
    ")\n",
    "\n",
    "\n",
    "ax_size = 0.075\n",
    "image_ax = fig.add_axes(\n",
    "    [0.1, 1.08, ax_size, ax_size],\n",
    "    fc='None'\n",
    ")\n",
    "fotmob_url = 'https://images.fotmob.com/image_resources/logo/teamlogo/'\n",
    "club_icon = Image.open(urllib.request.urlopen(f'{fotmob_url}{df_spurs[\"team_id\"].iloc[0]:.0f}.png'))\n",
    "image_ax.imshow(club_icon)\n",
    "image_ax.axis('off')\n",
    "\n",
    "plt.savefig(\n",
    "\t\"figures/0122023_pass_rolling.png\",\n",
    "\tdpi = 500,\n",
    "\tfacecolor = \"#EFE9E6\",\n",
    "\tbbox_inches=\"tight\",\n",
    "    edgecolor=\"none\",\n",
    "\ttransparent = False\n",
    ")\n",
    "\n",
    "plt.savefig(\n",
    "\t\"figures/0122023_pass_rolling_tr.png\",\n",
    "\tdpi = 500,\n",
    "\tfacecolor = \"none\",\n",
    "\tbbox_inches=\"tight\",\n",
    "    edgecolor=\"none\",\n",
    "\ttransparent = True\n",
    ")"
   ]
  }
 ],
 "metadata": {
  "kernelspec": {
   "display_name": ".venv",
   "language": "python",
   "name": "python3"
  },
  "language_info": {
   "codemirror_mode": {
    "name": "ipython",
    "version": 3
   },
   "file_extension": ".py",
   "mimetype": "text/x-python",
   "name": "python",
   "nbconvert_exporter": "python",
   "pygments_lexer": "ipython3",
   "version": "3.10.5"
  },
  "orig_nbformat": 4,
  "vscode": {
   "interpreter": {
    "hash": "aca485b89563c2a75260df8a2edb95eb97ae5cb9672718c4acedaab4d644be16"
   }
  }
 },
 "nbformat": 4,
 "nbformat_minor": 2
}
